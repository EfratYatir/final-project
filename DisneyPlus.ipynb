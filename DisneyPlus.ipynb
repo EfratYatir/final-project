{
 "cells": [
  {
   "cell_type": "markdown",
   "id": "6ffba9f9-ec1e-42b2-9de1-1f3a97d99006",
   "metadata": {},
   "source": [
    "<div>\n",
    "<img src=\"images/disney.jpg\" width=\"300\"/>\n",
    "<\\div>"
   ]
  },
  {
   "cell_type": "markdown",
   "id": "5bfa9cae-c441-4449-929f-75406972ec30",
   "metadata": {},
   "source": [
    "# דיסני פלוס \n",
    "מספר קבוצה - 39 \n",
    "### שמות המגישים:\n",
    "### אפרת יתיר, מריה סבלין ואריאל קנדלי\n",
    "\n",
    "קישור: https://www.kaggle.com/datasets/unanimad/disney-plus-shows"
   ]
  },
  {
   "cell_type": "code",
   "execution_count": 16,
   "id": "46ed1d85-eb3f-477b-8229-c0813e3d2b1c",
   "metadata": {},
   "outputs": [],
   "source": [
    "import numpy as np\n",
    "import pandas as pd\n",
    "import matplotlib.pyplot as plt\n",
    "import seaborn as sns\n",
    "sns.set()\n",
    "url = \"https://raw.githubusercontent.com/EfratYatir/final-project/main/disney_plus_shows.csv\"\n",
    "Disney = pd.read_csv(url)"
   ]
  },
  {
   "cell_type": "markdown",
   "id": "63f0765c-c876-4859-b58c-5fa894bb96b1",
   "metadata": {},
   "source": [
    "## הקדמה\n",
    "##### דיסני פלוס היא חברת בת של ענקית הסרטים וולט דיסני והיא מספקת שירותי צפייה בסרטים ובסדרות לקהל העולמי.\n",
    "##### החברה הוקמה בנובמבר 2019 ובקיץ 2022 יגיעו שירותיה לישראל."
   ]
  },
  {
   "cell_type": "markdown",
   "id": "a6afa595-68c5-4480-b935-72e80606923e",
   "metadata": {},
   "source": [
    "##  נסקור את ההבדלים בין דעות הצופים לדעות המבקרים:\n",
    "#### metascore - אתר לדירוג סרטים ע\"י מבקרי קולנוע\n",
    "#### imdb - אתר לדירוג סרטים ע\"י הקהל הרחב"
   ]
  },
  {
   "cell_type": "code",
   "execution_count": 10,
   "id": "84246bf4-7ac8-41b2-a051-20f440a837e5",
   "metadata": {},
   "outputs": [],
   "source": [
    "rating_diff = Disney[['title', 'metascore', 'imdb_rating']]"
   ]
  },
  {
   "cell_type": "markdown",
   "id": "206c58d3-94ce-42d7-af71-bdb718a895a7",
   "metadata": {},
   "source": [
    "##### בדיקה שאין ציון 0"
   ]
  },
  {
   "cell_type": "code",
   "execution_count": 11,
   "id": "b2858f6c-7cc2-4507-abcc-e2207e575302",
   "metadata": {},
   "outputs": [
    {
     "data": {
      "text/html": [
       "<div>\n",
       "<style scoped>\n",
       "    .dataframe tbody tr th:only-of-type {\n",
       "        vertical-align: middle;\n",
       "    }\n",
       "\n",
       "    .dataframe tbody tr th {\n",
       "        vertical-align: top;\n",
       "    }\n",
       "\n",
       "    .dataframe thead th {\n",
       "        text-align: right;\n",
       "    }\n",
       "</style>\n",
       "<table border=\"1\" class=\"dataframe\">\n",
       "  <thead>\n",
       "    <tr style=\"text-align: right;\">\n",
       "      <th></th>\n",
       "      <th>title</th>\n",
       "      <th>metascore</th>\n",
       "      <th>imdb_rating</th>\n",
       "    </tr>\n",
       "  </thead>\n",
       "  <tbody>\n",
       "  </tbody>\n",
       "</table>\n",
       "</div>"
      ],
      "text/plain": [
       "Empty DataFrame\n",
       "Columns: [title, metascore, imdb_rating]\n",
       "Index: []"
      ]
     },
     "execution_count": 11,
     "metadata": {},
     "output_type": "execute_result"
    }
   ],
   "source": [
    "rating_diff_zero = rating_diff.loc[(rating_diff.metascore == 0) | (rating_diff.imdb_rating == 0)]\n",
    "rating_diff_zero"
   ]
  },
  {
   "cell_type": "markdown",
   "id": "f95fb1d1-96c0-4b88-b72a-bab6b1bd58dc",
   "metadata": {},
   "source": [
    "##### מילוי ערכים חסרים ב - 0"
   ]
  },
  {
   "cell_type": "code",
   "execution_count": 12,
   "id": "40eecd48-98ac-4c80-842e-0eb2f509f821",
   "metadata": {},
   "outputs": [],
   "source": [
    "Disney.fillna(0 , inplace = True)"
   ]
  },
  {
   "cell_type": "code",
   "execution_count": 13,
   "id": "e9e66259-7658-4b62-83fb-537758ecb802",
   "metadata": {},
   "outputs": [
    {
     "data": {
      "text/html": [
       "<div>\n",
       "<style scoped>\n",
       "    .dataframe tbody tr th:only-of-type {\n",
       "        vertical-align: middle;\n",
       "    }\n",
       "\n",
       "    .dataframe tbody tr th {\n",
       "        vertical-align: top;\n",
       "    }\n",
       "\n",
       "    .dataframe thead th {\n",
       "        text-align: right;\n",
       "    }\n",
       "</style>\n",
       "<table border=\"1\" class=\"dataframe\">\n",
       "  <thead>\n",
       "    <tr style=\"text-align: right;\">\n",
       "      <th></th>\n",
       "      <th>metascore</th>\n",
       "      <th>imdb_rating</th>\n",
       "      <th>difference</th>\n",
       "    </tr>\n",
       "  </thead>\n",
       "  <tbody>\n",
       "    <tr>\n",
       "      <th>0</th>\n",
       "      <td>70.0</td>\n",
       "      <td>7.3</td>\n",
       "      <td>3.0</td>\n",
       "    </tr>\n",
       "    <tr>\n",
       "      <th>2</th>\n",
       "      <td>49.0</td>\n",
       "      <td>5.7</td>\n",
       "      <td>8.0</td>\n",
       "    </tr>\n",
       "    <tr>\n",
       "      <th>4</th>\n",
       "      <td>35.0</td>\n",
       "      <td>4.9</td>\n",
       "      <td>14.0</td>\n",
       "    </tr>\n",
       "    <tr>\n",
       "      <th>6</th>\n",
       "      <td>83.0</td>\n",
       "      <td>7.2</td>\n",
       "      <td>11.0</td>\n",
       "    </tr>\n",
       "    <tr>\n",
       "      <th>7</th>\n",
       "      <td>77.0</td>\n",
       "      <td>7.2</td>\n",
       "      <td>5.0</td>\n",
       "    </tr>\n",
       "    <tr>\n",
       "      <th>...</th>\n",
       "      <td>...</td>\n",
       "      <td>...</td>\n",
       "      <td>...</td>\n",
       "    </tr>\n",
       "    <tr>\n",
       "      <th>962</th>\n",
       "      <td>83.0</td>\n",
       "      <td>7.7</td>\n",
       "      <td>6.0</td>\n",
       "    </tr>\n",
       "    <tr>\n",
       "      <th>967</th>\n",
       "      <td>47.0</td>\n",
       "      <td>7.3</td>\n",
       "      <td>26.0</td>\n",
       "    </tr>\n",
       "    <tr>\n",
       "      <th>970</th>\n",
       "      <td>74.0</td>\n",
       "      <td>7.2</td>\n",
       "      <td>2.0</td>\n",
       "    </tr>\n",
       "    <tr>\n",
       "      <th>978</th>\n",
       "      <td>72.0</td>\n",
       "      <td>7.7</td>\n",
       "      <td>5.0</td>\n",
       "    </tr>\n",
       "    <tr>\n",
       "      <th>991</th>\n",
       "      <td>78.0</td>\n",
       "      <td>8.0</td>\n",
       "      <td>2.0</td>\n",
       "    </tr>\n",
       "  </tbody>\n",
       "</table>\n",
       "<p>292 rows × 3 columns</p>\n",
       "</div>"
      ],
      "text/plain": [
       "     metascore  imdb_rating  difference\n",
       "0         70.0          7.3         3.0\n",
       "2         49.0          5.7         8.0\n",
       "4         35.0          4.9        14.0\n",
       "6         83.0          7.2        11.0\n",
       "7         77.0          7.2         5.0\n",
       "..         ...          ...         ...\n",
       "962       83.0          7.7         6.0\n",
       "967       47.0          7.3        26.0\n",
       "970       74.0          7.2         2.0\n",
       "978       72.0          7.7         5.0\n",
       "991       78.0          8.0         2.0\n",
       "\n",
       "[292 rows x 3 columns]"
      ]
     },
     "execution_count": 13,
     "metadata": {},
     "output_type": "execute_result"
    }
   ],
   "source": [
    "rating_diff = rating_diff.loc[(rating_diff.metascore > 0) & (rating_diff.imdb_rating > 0)]\n",
    "rating_diff.fillna(0 , inplace = True)\n",
    "rating_diff['difference'] = abs(rating_diff['metascore'] - rating_diff['imdb_rating']*10)\n",
    "rating_diff[['metascore','imdb_rating', 'difference']]"
   ]
  },
  {
   "cell_type": "code",
   "execution_count": 14,
   "id": "f811f632-1776-4ddc-8baf-8326945f0b6a",
   "metadata": {},
   "outputs": [
    {
     "data": {
      "text/plain": [
       "<AxesSubplot:ylabel='difference'>"
      ]
     },
     "execution_count": 14,
     "metadata": {},
     "output_type": "execute_result"
    },
    {
     "data": {
      "image/png": "[encoded data removed]",
      "text/plain": [
       "<Figure size 432x288 with 1 Axes>"
      ]
     },
     "metadata": {},
     "output_type": "display_data"
    }
   ],
   "source": [
    "sns.boxplot(data = rating_diff ,y = 'difference')"
   ]
  },
  {
   "cell_type": "markdown",
   "id": "e4a51c0b-01e4-48b3-8668-d68f72b0a306",
   "metadata": {},
   "source": [
    "## ניתן להסיק מן הגרף כי ציוני המבקרים וציוני הצופים לרוב קרובים"
   ]
  },
  {
   "cell_type": "markdown",
   "id": "203da149-1d59-4367-bbca-914271c53cbc",
   "metadata": {},
   "source": [
    "## נערוך השוואה בין הז'אנרים השונים לפי ציוני הקהל ולפי כמות הסרטים בדיסני פלוס (ללא התייחסות לציוני המבקרים):"
   ]
  },
  {
   "cell_type": "code",
   "execution_count": 22,
   "id": "848371f8-f3d5-4737-90d8-2df4cb9607a0",
   "metadata": {},
   "outputs": [],
   "source": [
    "movies = Disney.loc[(Disney.type == 'movie')]\n",
    "genre = movies.genre.str.split(', ', expand = True)\n",
    "genre.loc[:, 'imdb_rating'] = movies[['imdb_rating']]\n",
    "genre.fillna(0 , inplace = True)\n",
    "genre_rating = pd.melt(genre, id_vars=['imdb_rating'], value_vars=[0,1,2,3,4,5,6,7])\n",
    "genre_rating = genre_rating.rename(columns={'value':'genre'})\n",
    "genre_rating = genre_rating.loc[(genre_rating.imdb_rating != 0) & (genre_rating.genre != 0)]"
   ]
  },
  {
   "cell_type": "code",
   "execution_count": 23,
   "id": "6e28d530-c8c9-49a0-9a87-d84ffa774466",
   "metadata": {},
   "outputs": [
    {
     "data": {
      "image/png": "[encoded data removed]",
      "text/plain": [
       "<Figure size 1224x576 with 2 Axes>"
      ]
     },
     "metadata": {},
     "output_type": "display_data"
    }
   ],
   "source": [
    "fig, axes = plt.subplots(figsize=(17, 8), ncols=2)\n",
    "plt.subplots_adjust(wspace = 0.3)\n",
    "sns.barplot(ax=axes[0], data = genre_rating, x='imdb_rating', y='genre', palette=\"Pastel1\")\n",
    "sns.countplot(ax=axes[1], data = genre_rating, y = 'genre', palette=\"Pastel1\")\n",
    "plt.show()"
   ]
  },
  {
   "cell_type": "markdown",
   "id": "3b1fd2dd-cbde-4661-b7a9-5493fec2ab9f",
   "metadata": {},
   "source": [
    "## מהשוואה בין הגרפים ניתן להסיק כי הז'אנר האהוב ביותר הוא לא בהכרח הנפוץ בדיסני פלוס ומכאן אפשר לגלות אילו סוגי סרטים כדאי להוסיף על מנת לרצות את קהל הצופים ולהגדיל את מספר המנויים.\n",
    " "
   ]
  },
  {
   "cell_type": "markdown",
   "id": "6d323bd0-b030-4109-8d4e-3193ef2c06dd",
   "metadata": {},
   "source": [
    "## :בדיקת כדאיות של 6 הבמאים בעלי מרבית הסרטים בדיסני פלוס (החל משנת 1990)"
   ]
  },
  {
   "cell_type": "code",
   "execution_count": 24,
   "id": "deaa4c78-74e6-41d6-89bf-88b7ffd8cbfa",
   "metadata": {},
   "outputs": [],
   "source": [
    "Disney['year'] = pd.DatetimeIndex(Disney['released_at']).year\n",
    "director = movies.director.str.split(', ', expand = True)\n",
    "director.loc[:, 'imdb_rating'] = movies[['imdb_rating']]\n",
    "director.loc[:, 'metascore'] = movies[['metascore']]\n",
    "director.loc[:, 'year'] = movies[['year']]\n",
    "director.fillna(0 , inplace = True)"
   ]
  },
  {
   "cell_type": "markdown",
   "id": "05cfca8c-c388-433a-943a-af06c48bacc8",
   "metadata": {},
   "source": [
    "##### מציאת 6 הבמאים בעלי כמות הסרטים הגבוהה ביותר"
   ]
  },
  {
   "cell_type": "code",
   "execution_count": 25,
   "id": "8e6e50ea-c17d-4712-832e-39ccba4037b6",
   "metadata": {},
   "outputs": [
    {
     "data": {
      "text/plain": [
       "John Lasseter          5\n",
       "Ron Clements           5\n",
       "John Musker            5\n",
       "Jon Turteltaub         4\n",
       "Alastair Fothergill    4\n",
       "Andrew Stanton         4\n",
       "Name: director, dtype: int64"
      ]
     },
     "execution_count": 25,
     "metadata": {},
     "output_type": "execute_result"
    }
   ],
   "source": [
    "director_rating = pd.melt(director, id_vars=['imdb_rating', 'metascore', 'year'], value_vars=[0,1,2,3,4,5,6,7,8,9,10,11])\n",
    "director_rating = director_rating.rename(columns={'value':'director'})\n",
    "director_rating = director_rating.loc[(director_rating.imdb_rating != 0) & (director_rating.metascore != 0) & (director_rating.director != 0) & (director_rating.year > 1990)]\n",
    "director_rating['imdb_rating'] = director_rating['imdb_rating']*10\n",
    "director_rating['director'].value_counts().head(6)"
   ]
  },
  {
   "cell_type": "code",
   "execution_count": 26,
   "id": "6a15075f-67b4-4882-9cca-e542967e9580",
   "metadata": {},
   "outputs": [],
   "source": [
    "director_top6 = director_rating.loc[(director_rating.director == 'John Musker') | (director_rating.director == 'Ron Clements') | (director_rating.director == 'John Lasseter') | (director_rating.director == 'Jon Turteltaub') | (director_rating.director == 'Alastair Fothergill') | (director_rating.director == 'Andrew Stanton')]"
   ]
  },
  {
   "cell_type": "markdown",
   "id": "a50cd9ba-408d-4008-aedb-a4dc3f69aded",
   "metadata": {},
   "source": [
    "##### ממוצע ציוני הצופים"
   ]
  },
  {
   "cell_type": "code",
   "execution_count": 27,
   "id": "e848ccec-89d5-44cb-8656-cd4f9f852a7e",
   "metadata": {},
   "outputs": [
    {
     "data": {
      "text/plain": [
       "imdb_rating    67.82971\n",
       "dtype: float64"
      ]
     },
     "execution_count": 27,
     "metadata": {},
     "output_type": "execute_result"
    }
   ],
   "source": [
    "director_rating[['imdb_rating']].mean()"
   ]
  },
  {
   "cell_type": "code",
   "execution_count": 28,
   "id": "4481e6df-0e10-4a76-bb58-01a3ed9af22a",
   "metadata": {},
   "outputs": [
    {
     "data": {
      "image/png": "[encoded data removed]",
      "text/plain": [
       "<Figure size 432x288 with 1 Axes>"
      ]
     },
     "metadata": {},
     "output_type": "display_data"
    }
   ],
   "source": [
    "sns.barplot(data = director_top6, x='director', y='imdb_rating', palette=\"Pastel2\")\n",
    "plt.xticks(rotation=70)\n",
    "plt.axhline(67.82971, ls = '--')\n",
    "plt.show()"
   ]
  },
  {
   "cell_type": "markdown",
   "id": "4918dd13-f469-467a-aefe-4865e320efd1",
   "metadata": {},
   "source": [
    "### לפי ציוני הצופים, סרטיו של הבמאי ג'ון טרטלטאוב נמצאים מתחת לרמה הממוצעת "
   ]
  },
  {
   "cell_type": "markdown",
   "id": "c62e7dd9-4375-402e-bc36-a3c18dd82e5f",
   "metadata": {},
   "source": [
    "##### ממוצע ציוני המבקרים"
   ]
  },
  {
   "cell_type": "code",
   "execution_count": 29,
   "id": "f15cc4ea-807f-4d8c-ab42-1dac121c8d14",
   "metadata": {},
   "outputs": [
    {
     "data": {
      "text/plain": [
       "metascore    62.905797\n",
       "dtype: float64"
      ]
     },
     "execution_count": 29,
     "metadata": {},
     "output_type": "execute_result"
    }
   ],
   "source": [
    "director_rating[['metascore']].mean()"
   ]
  },
  {
   "cell_type": "code",
   "execution_count": 30,
   "id": "bad2c3ac-98fa-4a4e-9b33-431e0c0e9e81",
   "metadata": {},
   "outputs": [
    {
     "data": {
      "image/png": "[encoded data removed]",
      "text/plain": [
       "<Figure size 432x288 with 1 Axes>"
      ]
     },
     "metadata": {},
     "output_type": "display_data"
    }
   ],
   "source": [
    "sns.barplot(data = director_top6, x='director', y='metascore', palette=\"Pastel2\")\n",
    "plt.xticks(rotation=70)\n",
    "plt.axhline(62.905797101449274, ls = '--')\n",
    "plt.show()"
   ]
  },
  {
   "cell_type": "markdown",
   "id": "cf4c51ff-a6de-49e1-876d-c25f7a94179f",
   "metadata": {},
   "source": [
    "### כמו כן, סרטיו של הבמאי ג'ון טרטלטאוב נמצאים מתחת לרמה הממוצעת גם לפי ציוני המבקרים "
   ]
  },
  {
   "cell_type": "markdown",
   "id": "a77cb1ca-b7df-4f4a-86ff-946ca099b3eb",
   "metadata": {},
   "source": [
    "## מכך ניתן להסיק כי הוספת סרטים נוספים של במאי זה אינה בהכרח תגדיל את כמות המנויים."
   ]
  },
  {
   "cell_type": "markdown",
   "id": "521d0a8a-599e-40be-a17b-524662a52390",
   "metadata": {},
   "source": [
    "## שחקן אהוב:"
   ]
  },
  {
   "cell_type": "code",
   "execution_count": 31,
   "id": "31d37045-efc6-43e4-b83c-73ed82594f50",
   "metadata": {},
   "outputs": [],
   "source": [
    "actor = movies.actors.str.split(', ', expand = True)\n",
    "actor.loc[:, 'imdb_rating'] = movies[['imdb_rating']]\n",
    "actor.fillna(0 , inplace = True)\n",
    "actor_rating = pd.melt(actor, id_vars=['imdb_rating'], value_vars=[0,1,2,3])\n",
    "actor_rating  = actor_rating.rename(columns={'value':'actor'})\n",
    "actor_rating = actor_rating.loc[(actor_rating.imdb_rating != 0) & (actor_rating.actor != 0)]"
   ]
  },
  {
   "cell_type": "markdown",
   "id": "a3d55fef-11e5-47d3-9b04-446be9524790",
   "metadata": {},
   "source": [
    "##### מציאת 6 השחקנים בעלי כמות הסרטים הגבוהה ביותר"
   ]
  },
  {
   "cell_type": "code",
   "execution_count": 32,
   "id": "95edac3c-acf7-4c1a-a512-55ccee029130",
   "metadata": {},
   "outputs": [
    {
     "data": {
      "text/plain": [
       "Clarence Nash      31\n",
       "Pinto Colvig       23\n",
       "Jim Cummings       17\n",
       "Walt Disney        15\n",
       "James MacDonald    13\n",
       "Tim Allen          11\n",
       "Name: actor, dtype: int64"
      ]
     },
     "execution_count": 32,
     "metadata": {},
     "output_type": "execute_result"
    }
   ],
   "source": [
    "actor_rating['actor'].value_counts().head(6)"
   ]
  },
  {
   "cell_type": "code",
   "execution_count": 33,
   "id": "fafb2b9f-0e77-40a7-88c0-7dbd67fa751c",
   "metadata": {},
   "outputs": [],
   "source": [
    "actor_top6 = actor_rating.loc[(actor_rating.actor == 'Clarence Nash') | (actor_rating.actor == 'Pinto Colvig') | (actor_rating.actor == 'Jim Cummings') | (actor_rating.actor == 'Walt Disney') | (actor_rating.actor == 'James MacDonald') | (actor_rating.actor == 'Tim Allen')]"
   ]
  },
  {
   "cell_type": "markdown",
   "id": "52848096-3c7e-4c15-9393-653641f052a9",
   "metadata": {},
   "source": [
    "##### ממוצע ציוני המבקרים"
   ]
  },
  {
   "cell_type": "code",
   "execution_count": 36,
   "id": "885ed1ac-1a1d-4676-8ced-63f4cfaf71d0",
   "metadata": {},
   "outputs": [
    {
     "data": {
      "text/plain": [
       "imdb_rating    6.494737\n",
       "dtype: float64"
      ]
     },
     "execution_count": 36,
     "metadata": {},
     "output_type": "execute_result"
    }
   ],
   "source": [
    "actor_rating[['imdb_rating']].mean()"
   ]
  },
  {
   "cell_type": "code",
   "execution_count": 35,
   "id": "670ae532-efc7-4955-b0bf-8828dea0b4ec",
   "metadata": {},
   "outputs": [
    {
     "data": {
      "image/png": "[encoded data removed]",
      "text/plain": [
       "<Figure size 432x288 with 1 Axes>"
      ]
     },
     "metadata": {},
     "output_type": "display_data"
    }
   ],
   "source": [
    "sns.barplot(data = actor_top6, x='actor', y='imdb_rating', palette=\"Pastel2\")\n",
    "plt.xticks(rotation=70)\n",
    "plt.axhline(6.494737, ls = '--')\n",
    "plt.show()"
   ]
  },
  {
   "cell_type": "markdown",
   "id": "a83976b2-ad27-4ca9-b874-3294d866d8d0",
   "metadata": {},
   "source": [
    "## דיסני פלוס שומרים על קלאסיקות הקולנוע ושמים אותן בקידמת הבמה.\n",
    "## השחקנים המובילים בדיסני פלוס הם המדובבים של של דמויות נוסטלגיות כמו דונאלד דאק, פו הדב, טייגר ואפילו וולט דיסני בדמותו של מיקי מאוס. "
   ]
  },
  {
   "cell_type": "markdown",
   "id": "9d60dc3b-1c35-4c4d-8c86-7f79a3e97077",
   "metadata": {},
   "source": [
    "<div>\n",
    "<img src=\"images/R.jpg\" width=\"300\"/> <img src=\"images/1180w-600h-disney-legend-Clarence-Nash-1180x600.jpg\" width=\"400\"/> <img src=\"images/1_h_fa7YdhZ3gAOhhx5evwbQ.jpeg\" width=\"200\"/>\n",
    "<\\div>"
   ]
  },
  {
   "cell_type": "code",
   "execution_count": null,
   "id": "5dcbb80a-d7e2-412b-8047-246b6407cebf",
   "metadata": {},
   "outputs": [],
   "source": []
  }
 ],
 "metadata": {
  "kernelspec": {
   "display_name": "Python 3",
   "language": "python",
   "name": "python3"
  },
  "language_info": {
   "codemirror_mode": {
    "name": "ipython",
    "version": 3
   },
   "file_extension": ".py",
   "mimetype": "text/x-python",
   "name": "python",
   "nbconvert_exporter": "python",
   "pygments_lexer": "ipython3",
   "version": "3.8.8"
  }
 },
 "nbformat": 4,
 "nbformat_minor": 5
}
